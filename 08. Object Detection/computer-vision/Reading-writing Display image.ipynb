{
 "cells": [
  {
   "cell_type": "markdown",
   "id": "embedded-joyce",
   "metadata": {},
   "source": [
    "## <center> Read and write the image using CV2</Center>"
   ]
  },
  {
   "cell_type": "code",
   "execution_count": 1,
   "id": "yellow-mortality",
   "metadata": {},
   "outputs": [],
   "source": [
    "# Import python modules\n",
    "import cv2\n",
    "import numpy as np\n",
    "import pandas as pd"
   ]
  },
  {
   "cell_type": "code",
   "execution_count": 2,
   "id": "ongoing-subscriber",
   "metadata": {},
   "outputs": [],
   "source": [
    "# Reading images\n",
    "input = cv2.imread('./images/elephant.jpg')"
   ]
  },
  {
   "cell_type": "code",
   "execution_count": 6,
   "id": "sudden-serum",
   "metadata": {},
   "outputs": [],
   "source": [
    "# Showing the images\n",
    "\n",
    "cv2.imshow('Elephant', input)\n",
    "cv2.waitKey(0) # waits until a key is pressed\n",
    "cv2.destroyAllWindows() # destroys the window showing image"
   ]
  },
  {
   "cell_type": "code",
   "execution_count": 7,
   "id": "laden-lincoln",
   "metadata": {},
   "outputs": [
    {
     "data": {
      "text/plain": [
       "(260, 193, 3)"
      ]
     },
     "execution_count": 7,
     "metadata": {},
     "output_type": "execute_result"
    }
   ],
   "source": [
    "# Shape of the image\n",
    "input.shape"
   ]
  },
  {
   "cell_type": "code",
   "execution_count": 10,
   "id": "thorough-chicken",
   "metadata": {},
   "outputs": [
    {
     "name": "stdout",
     "output_type": "stream",
     "text": [
      "Height of the image 260 pixel\n",
      "Weight of the image 193 pixel\n",
      "Color Channel in the Image 3\n"
     ]
    }
   ],
   "source": [
    "print(f'Height of the image {input.shape[0]} pixel')\n",
    "print(f'Weight of the image {input.shape[1]} pixel')\n",
    "print(f'Color channels in the image {input.shape[2]}')"
   ]
  },
  {
   "cell_type": "code",
   "execution_count": 13,
   "id": "thrown-lingerie",
   "metadata": {},
   "outputs": [
    {
     "data": {
      "text/plain": [
       "True"
      ]
     },
     "execution_count": 13,
     "metadata": {},
     "output_type": "execute_result"
    }
   ],
   "source": [
    "# Write the image in png and jpg format\n",
    "cv2.imwrite('./images/output.jpg', input)\n",
    "cv2.imwrite('./images/output.png', input)"
   ]
  },
  {
   "cell_type": "code",
   "execution_count": null,
   "id": "elementary-ridge",
   "metadata": {},
   "outputs": [],
   "source": []
  }
 ],
 "metadata": {
  "kernelspec": {
   "display_name": "Python 3",
   "language": "python",
   "name": "python3"
  },
  "language_info": {
   "codemirror_mode": {
    "name": "ipython",
    "version": 3
   },
   "file_extension": ".py",
   "mimetype": "text/x-python",
   "name": "python",
   "nbconvert_exporter": "python",
   "pygments_lexer": "ipython3",
   "version": "3.7.0"
  }
 },
 "nbformat": 4,
 "nbformat_minor": 5
}
